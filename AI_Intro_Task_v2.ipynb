{
  "cells": [
    {
      "cell_type": "markdown",
      "metadata": {
        "id": "view-in-github",
        "colab_type": "text"
      },
      "source": [
        "<a href=\"https://colab.research.google.com/github/vsokh/AIFundamentals/blob/main/AI_Intro_Task_v2.ipynb\" target=\"_parent\"><img src=\"https://colab.research.google.com/assets/colab-badge.svg\" alt=\"Open In Colab\"/></a>"
      ]
    },
    {
      "cell_type": "markdown",
      "metadata": {
        "id": "Fntz0L_hu8WC"
      },
      "source": [
        "# Introduction to Artificial Intelligence. Practical Tasks\n",
        "\n",
        "## Task.1 Rock-Paper-Scissors\n",
        "\n",
        "The Rock-Paper-Scissors game is a simple hand game played between two players. It is often used as a decision-making tool or a playful way to make choices between two individuals. The game involves three hand shapes, each representing one of the three options: \"rock,\" \"paper,\" or \"scissors.\" The rules are straightforward:\n",
        "\n",
        "1. Rock crushes Scissors: Rock wins against Scissors.\n",
        "2. Paper covers Rock: Paper wins against Rock.\n",
        "3. Scissors cut Paper: Scissors win against Paper.\n",
        "\n",
        "The game follows a cyclic pattern, where each option beats one and loses to another. If both players choose the same option, the game results in a tie or draw.\n",
        "\n",
        "The Rock-Paper-Scissors game is typically played in a series of rounds. Each player makes their choice by forming one of the hand shapes (rock, paper, or scissors) simultaneously. Then, the choices are revealed, and the winner of the round is determined based on the rules above. The game continues until a predetermined number of rounds are completed, and the player with the most wins is declared the overall winner.\n"
      ]
    },
    {
      "cell_type": "code",
      "execution_count": 1,
      "metadata": {
        "colab": {
          "base_uri": "https://localhost:8080/"
        },
        "id": "1Mx3DgiidnfY",
        "outputId": "a590c586-1e95-426a-d2e3-41112fac47cb"
      },
      "outputs": [
        {
          "output_type": "stream",
          "name": "stdout",
          "text": [
            "Collecting git+https://github.com/mehalyna/cooltest.git\n",
            "  Cloning https://github.com/mehalyna/cooltest.git to /tmp/pip-req-build-5bh4kkt_\n",
            "  Running command git clone --filter=blob:none --quiet https://github.com/mehalyna/cooltest.git /tmp/pip-req-build-5bh4kkt_\n",
            "  Resolved https://github.com/mehalyna/cooltest.git to commit 630c96f2d3300782279879d5d13e6c1aaabf3c75\n",
            "  Preparing metadata (setup.py) ... \u001b[?25l\u001b[?25hdone\n",
            "Requirement already satisfied: numpy>=1.15 in /usr/local/lib/python3.10/dist-packages (from cooltest==26.22) (1.26.4)\n",
            "Building wheels for collected packages: cooltest\n",
            "  Building wheel for cooltest (setup.py) ... \u001b[?25l\u001b[?25hdone\n",
            "  Created wheel for cooltest: filename=cooltest-26.22-py3-none-any.whl size=5447 sha256=deded7d9768f12e8f965a98627964443a98068aacb90a81421b53add1fe33313\n",
            "  Stored in directory: /tmp/pip-ephem-wheel-cache-_c7hpzjk/wheels/5f/d0/08/46fba8323b078d91da2d05922a680d9728e94d53b453a8dd79\n",
            "Successfully built cooltest\n",
            "Installing collected packages: cooltest\n",
            "Successfully installed cooltest-26.22\n"
          ]
        }
      ],
      "source": [
        "!pip install git+https://github.com/mehalyna/cooltest.git"
      ]
    },
    {
      "cell_type": "code",
      "execution_count": 3,
      "metadata": {
        "id": "d5CQbiR4do4l",
        "colab": {
          "base_uri": "https://localhost:8080/"
        },
        "outputId": "d173e20b-7f6b-48e4-b583-46d5e11098c2"
      },
      "outputs": [
        {
          "output_type": "stream",
          "name": "stdout",
          "text": [
            "Pass\n"
          ]
        }
      ],
      "source": [
        "from cooltest.test_cool_2 import *"
      ]
    },
    {
      "cell_type": "markdown",
      "metadata": {
        "id": "aZPJ8rt--GOg"
      },
      "source": [
        "Your task is to write the body of function `play_rock_paper_scissors()` in such a way that it would be used to play the game with the computer.\n",
        "\n",
        "In this version of the function, the player's choice (from the user) and computer's choice (randomly generated) will be taken as input parameter. The winner is determined based on the **Rock-Paper-Scissors** game rules, and the result of the round is displayed. The user can play the game against the computer by providing their choice as input."
      ]
    },
    {
      "cell_type": "code",
      "execution_count": 32,
      "metadata": {
        "id": "lqhoAA6bu4jm",
        "colab": {
          "base_uri": "https://localhost:8080/"
        },
        "outputId": "7b1d17c8-2405-475d-aca8-5bbc8ae5cd5e"
      },
      "outputs": [
        {
          "output_type": "stream",
          "name": "stdout",
          "text": [
            "Test game Pass\n"
          ]
        }
      ],
      "source": [
        "@test_play_rock_paper_scissors\n",
        "def play_rock_paper_scissors(player_choice, comp_choice):\n",
        "    \"\"\"\n",
        "    Play a round of the Rock-Paper-Scissors game.\n",
        "\n",
        "    Parameters:\n",
        "        player1_choice (str): The choice of Player 1. Should be one of 'rock', 'paper', or 'scissors'.\n",
        "        comp_choice (str): The choice of Computer. Should be one of 'rock', 'paper', or 'scissors'.\n",
        "\n",
        "    Returns:\n",
        "        str: The result of the round. It can be one of the following:\n",
        "             - \"Tie\" if both players have the same choice.\n",
        "             - \"Player 1 wins\" if Player 1's choice wins the round.\n",
        "             - \"Comp wins\" if Computer's choice wins the round.\n",
        "\n",
        "    Example:\n",
        "        >>> play_rock_paper_scissors('rock', 'paper')\n",
        "        'Comp wins'\n",
        "        >>> play_rock_paper_scissors('scissors', 'scissors')\n",
        "        'Tie'\n",
        "    \"\"\"\n",
        "    if player_choice == comp_choice:\n",
        "      return 'Tie'\n",
        "\n",
        "    if player_choice == 'rock':\n",
        "      if comp_choice == 'scissors':\n",
        "        return 'Player 1 wins'\n",
        "      if comp_choice == 'paper':\n",
        "        return 'Comp wins'\n",
        "\n",
        "    if player_choice == 'paper':\n",
        "      if comp_choice == 'rock':\n",
        "        return 'Player 1 wins'\n",
        "      if comp_choice == 'scissors':\n",
        "        return 'Comp wins'\n",
        "\n",
        "    if player_choice == 'scissors':\n",
        "      if comp_choice == 'rock':\n",
        "        return 'Comp wins'\n",
        "      if comp_choice == 'paper':\n",
        "        return 'Player 1 wins'"
      ]
    },
    {
      "cell_type": "markdown",
      "metadata": {
        "id": "ypdlLuEaKVJV"
      },
      "source": [
        "Your next task is to write the body of function `computer_makes_choice` in such a way that it would return the choice of the computer.\n",
        "\n",
        "The computer's choice will be randomly generated using the `random.choice()` function."
      ]
    },
    {
      "cell_type": "code",
      "execution_count": 9,
      "metadata": {
        "id": "4LbHs_cFvobf",
        "colab": {
          "base_uri": "https://localhost:8080/"
        },
        "outputId": "e09e177d-16dc-402c-860e-ad265d6f3094"
      },
      "outputs": [
        {
          "output_type": "stream",
          "name": "stdout",
          "text": [
            "Test Comp choice pass\n"
          ]
        }
      ],
      "source": [
        "import random\n",
        "\n",
        "@ test_computer_makes_choice\n",
        "def computer_makes_choice():\n",
        "    \"\"\"\n",
        "    Generates the choise of the computer in the Rock-Paper-Scissors game.\n",
        "\n",
        "    Parameters:\n",
        "        none.\n",
        "\n",
        "    Returns:\n",
        "        str: The choice of the player. Should be one of 'rock', 'paper', or 'scissors'.\n",
        "\n",
        "    Example:\n",
        "        >>> computer_makes_choice()\n",
        "        'rock'\n",
        "        >>> computer_makes_choice()\n",
        "        'scissors'\n",
        "    \"\"\"\n",
        "    # Generate computer's choice randomly\n",
        "    valid_choices = {'rock', 'paper', 'scissors'}\n",
        "    return random.choice(list(valid_choices))\n"
      ]
    },
    {
      "cell_type": "markdown",
      "metadata": {
        "id": "QJZf8hWXLtjv"
      },
      "source": [
        "Write the body of function `play_multiple_rounds(num_rounds)` that will directly call the `play_rock_paper_scissors()` function inside the loop for each round. The game proceeds as before, with the user inputting their choice, and the result of each round is displayed accordingly."
      ]
    },
    {
      "cell_type": "code",
      "execution_count": 24,
      "metadata": {
        "id": "tMmuVFkgKyNx"
      },
      "outputs": [],
      "source": [
        "def play_multiple_rounds(num_rounds):\n",
        "    \"\"\"\n",
        "    Play multiple rounds of the Rock-Paper-Scissors game against the computer.\n",
        "\n",
        "    Parameters:\n",
        "        num_rounds (int): The number of rounds to play.\n",
        "\n",
        "    Returns:\n",
        "        None\n",
        "\n",
        "    Example:\n",
        "        >>> play_multiple_rounds(3)\n",
        "        Enter your choice (rock/paper/scissors): rock\n",
        "        Round 1: You chose rock. Computer chose paper. Comp wins\n",
        "\n",
        "        Enter your choice (rock/paper/scissors): paper\n",
        "        Round 2: You chose paper. Computer chose paper. Tie\n",
        "\n",
        "        Enter your choice (rock/paper/scissors): scissors\n",
        "        Round 3: You chose scissors. Computer chose rock. Comp wins\n",
        "    \"\"\"\n",
        "    valid_choices = {'rock', 'paper', 'scissors'}\n",
        "    for round in range(1, num_rounds + 1):\n",
        "      player_choice = input(\"Enter your choice: ({}) \".format('/'.join(ch for ch in valid_choices)))\n",
        "      comp_choice =  computer_makes_choice()\n",
        "      result = play_rock_paper_scissors(player_choice, comp_choice)\n",
        "      print(\"Round {}: You chose {}. Computer chose {}. {}\".format(round, player_choice, comp_choice, result))\n",
        "    return None\n"
      ]
    },
    {
      "cell_type": "code",
      "execution_count": 33,
      "metadata": {
        "id": "UzHSL_3VQn6_",
        "colab": {
          "base_uri": "https://localhost:8080/"
        },
        "collapsed": true,
        "outputId": "8edfcb69-23d0-464a-b364-c462f08339c4"
      },
      "outputs": [
        {
          "output_type": "stream",
          "name": "stdout",
          "text": [
            "Enter the number of rounds to play: 3\n",
            "Enter your choice: (rock/scissors/paper) rock\n",
            "Round 1: You chose rock. Computer chose scissors. Player 1 wins\n",
            "Enter your choice: (rock/scissors/paper) rock\n",
            "Round 2: You chose rock. Computer chose scissors. Player 1 wins\n",
            "Enter your choice: (rock/scissors/paper) rock\n",
            "Round 3: You chose rock. Computer chose paper. Comp wins\n"
          ]
        }
      ],
      "source": [
        "\n",
        "# Example usage:\n",
        "num_rounds = int(input(\"Enter the number of rounds to play: \"))\n",
        "play_multiple_rounds(num_rounds)\n"
      ]
    },
    {
      "cell_type": "markdown",
      "metadata": {
        "id": "DN9GBzhMwF7U"
      },
      "source": [
        "The simplicity and randomness of the Rock-Paper-Scissors game make it a popular choice for resolving disputes or making decisions in a fair and fun way."
      ]
    },
    {
      "cell_type": "markdown",
      "metadata": {
        "id": "SDfeV1MtT3Z_"
      },
      "source": [
        "## **Task 2. Hangman game**\n",
        "\n",
        "Create a text-based version of the Hangman game. The computer selects a random word, and the player guesses letters until they solve the word or run out of attempts.\n",
        "\n",
        "*Problem Definition:*\n",
        "\n",
        "* You are tasked with implementing a simple Hangman game in Python.\n",
        "* The game should select a random word from a predefined list of words.\n",
        "* The player must guess letters in the word one at a time.\n",
        "* If the player guesses a correct letter, it is revealed in the word.\n",
        "* If the player guesses an incorrect letter, a part of the hangman is drawn.\n",
        "* The player wins if they guess all the letters correctly before the hangman is fully drawn.\n",
        "* The player loses if the hangman is fully drawn before they guess the word.\n",
        "* The game should provide feedback to the player after each guess.\n",
        "* The game continues until the player wins or loses.\n",
        "\n",
        "Your Hangman game will consist of three functions: `select_random_word`, `display_word`, and `hangman_game`. The `hangman_game` function runs the game loop, while the other functions are used to select a random word and display the word with guessed letters filled in.\n",
        "\n",
        "Certainly! Here's a description of each of the functions in the Hangman game:\n",
        "\n",
        "1. `select_random_word` Function:\n",
        "\n",
        "   This function is responsible for selecting a random word from a predefined list of words. It is used at the beginning of the game to choose the word that the player needs to guess.\n",
        "\n",
        "   - Parameters: None\n",
        "   - Returns: A randomly selected word (string).\n",
        "\n",
        "2. `display_word` Function:\n",
        "\n",
        "   This function takes two arguments: the target word to guess and a list of guessed letters. It generates a string where guessed letters are filled in, and unguessed letters are represented by underscores.\n",
        "\n",
        "   - Parameters:\n",
        "     - `word(str)`: The target word to guess.\n",
        "     - `guessed_letters(list)`: List of letters guessed by the player.\n",
        "\n",
        "   - Returns: The word with guessed letters filled in (string).\n",
        "\n",
        "\n",
        "3. `hangman_game` Function:\n",
        "\n",
        "   This function executes the Hangman game. It handles the game's main logic, including taking user input for letter guesses, checking if the guessed letters are correct, and displaying feedback to the player. The game continues until the player either wins by guessing the word correctly or loses by running out of attempts.\n",
        "\n",
        "   - Parameters: None\n",
        "\n",
        "Each function serves a specific role in the Hangman game, making the code modular and easier to understand. The `hangman_game` function ties everything together and provides the overall game experience for the player, including welcoming them, managing guesses, and announcing the game's outcome."
      ]
    },
    {
      "cell_type": "code",
      "execution_count": null,
      "metadata": {
        "id": "oyrQq1OlUHm6"
      },
      "outputs": [],
      "source": [
        "import random\n",
        "\n",
        "@test_select_random_word\n",
        "def select_random_word():\n",
        "    \"\"\"\n",
        "    Selects a random word from a predefined list of words.\n",
        "\n",
        "    Returns:\n",
        "    str: A randomly selected word.\n",
        "    \"\"\"\n",
        "    word_list = [\"apple\", \"banana\", \"cherry\", \"dog\", \"elephant\", \"flower\", \"giraffe\", \"hamburger\", \"icecream\", \"jacket\"]\n",
        "    return result\n",
        "\n",
        "@test_display_word\n",
        "def display_word(word, guessed_letters):\n",
        "    \"\"\"\n",
        "    Displays the word with guessed letters filled in and unguessed letters as underscores.\n",
        "\n",
        "    Args:\n",
        "    word (str): The target word to guess.\n",
        "    guessed_letters (list): List of letters guessed by the player.\n",
        "\n",
        "    Returns:\n",
        "    str: The word with guessed letters filled in.\n",
        "    \"\"\"\n",
        "\n",
        "\n",
        "    return result\n",
        "\n",
        "def hangman_game():\n",
        "    \"\"\"\n",
        "    Executes the Hangman game.\n",
        "\n",
        "    The player must guess letters in a randomly selected word until they either win or lose.\n",
        "    \"\"\"\n",
        "    word_to_guess = select_random_word()\n",
        "    guessed_letters = []\n",
        "    max_attempts = 6  # Maximum attempts before losing\n",
        "\n",
        "    print(\"Welcome to Hangman!\")\n",
        "    print(\"Try to guess the word. You can make up to 6 wrong guesses.\")\n",
        "\n",
        "\n",
        "\n",
        "    return None\n",
        "\n",
        "\n",
        "\n",
        "# To play the game, call the hangman_game() function:\n",
        "\n",
        "hangman_game()\n"
      ]
    }
  ],
  "metadata": {
    "colab": {
      "provenance": [],
      "include_colab_link": true
    },
    "kernelspec": {
      "display_name": "Python 3",
      "name": "python3"
    },
    "language_info": {
      "name": "python"
    }
  },
  "nbformat": 4,
  "nbformat_minor": 0
}